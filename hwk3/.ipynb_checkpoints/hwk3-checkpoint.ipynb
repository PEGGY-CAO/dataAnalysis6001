{
 "cells": [
  {
   "cell_type": "markdown",
   "metadata": {},
   "source": [
    "## Homework 3 Yuqi(Peggy) Cao\n",
    "This jupyter notebook is presented for MUSI 6001 homework 3. \n",
    "I use python and write it in jupyter notebook  "
   ]
  },
  {
   "cell_type": "markdown",
   "metadata": {},
   "source": [
    "1) I use the pandas library to parse the csv file and import as a dataframe called \"df\"."
   ]
  },
  {
   "cell_type": "code",
   "execution_count": 1,
   "metadata": {},
   "outputs": [],
   "source": [
    "import pandas\n",
    "\n",
    "\n",
    "from IPython.display import HTML, display\n",
    "\n",
    "df = pandas.read_csv('airquality.csv', header=0,\n",
    "        names=['No.','Ozone',  'Solar.R',  'Wind',  'Temp',  'Month',  'Day'])\n",
    "# print(df)\n"
   ]
  },
  {
   "cell_type": "markdown",
   "metadata": {},
   "source": [
    "2) Then I used pandas library's functions to calcuate the mean, median, and mode for the wind speed and temperature variables."
   ]
  },
  {
   "cell_type": "code",
   "execution_count": 2,
   "metadata": {},
   "outputs": [],
   "source": [
    "mean_windspeed = df['Wind'].mean() # calculates the average of values under \"Wind\"\n",
    "mean_temp = df['Temp'].mean() # calculates the average of values under \"Temp\"\n",
    "median_windspeed = df['Wind'].median()\n",
    "median_temp = df['Temp'].median()\n",
    "mode_windspeed = df['Wind'].mode()\n",
    "mode_temp = df['Temp'].mode()\n",
    "# print(mode_windspeed[0])\n",
    "# print(mode_temp[0])"
   ]
  },
  {
   "cell_type": "markdown",
   "metadata": {},
   "source": [
    "Then I wrote those data as a table and print those out in pandas 's dataframe format"
   ]
  },
  {
   "cell_type": "code",
   "execution_count": 3,
   "metadata": {},
   "outputs": [
    {
     "data": {
      "text/html": [
       "<div>\n",
       "<style scoped>\n",
       "    .dataframe tbody tr th:only-of-type {\n",
       "        vertical-align: middle;\n",
       "    }\n",
       "\n",
       "    .dataframe tbody tr th {\n",
       "        vertical-align: top;\n",
       "    }\n",
       "\n",
       "    .dataframe thead th {\n",
       "        text-align: right;\n",
       "    }\n",
       "</style>\n",
       "<table border=\"1\" class=\"dataframe\">\n",
       "  <thead>\n",
       "    <tr style=\"text-align: right;\">\n",
       "      <th></th>\n",
       "      <th>Wind speed</th>\n",
       "      <th>Temperature</th>\n",
       "    </tr>\n",
       "  </thead>\n",
       "  <tbody>\n",
       "    <tr>\n",
       "      <th>Mean</th>\n",
       "      <td>9.95752</td>\n",
       "      <td>77.8824</td>\n",
       "    </tr>\n",
       "    <tr>\n",
       "      <th>Median</th>\n",
       "      <td>9.7</td>\n",
       "      <td>79</td>\n",
       "    </tr>\n",
       "    <tr>\n",
       "      <th>Mode</th>\n",
       "      <td>11.50</td>\n",
       "      <td>81.00</td>\n",
       "    </tr>\n",
       "  </tbody>\n",
       "</table>\n",
       "</div>"
      ],
      "text/plain": [
       "       Wind speed Temperature\n",
       "Mean      9.95752     77.8824\n",
       "Median        9.7          79\n",
       "Mode        11.50       81.00"
      ]
     },
     "execution_count": 3,
     "metadata": {},
     "output_type": "execute_result"
    }
   ],
   "source": [
    "table = [\n",
    "[mean_windspeed, mean_temp],    \n",
    "[median_windspeed, median_temp],\n",
    "[str.format('{0:.2f}', mode_windspeed[0]), str.format('{0:.2f}', mode_temp[0])]    \n",
    "]\n",
    "\n",
    "pandas.DataFrame(table, columns=[\"Wind speed\", \"Temperature\"], \n",
    "                 index=[\"Mean\", \"Median\", \"Mode\"])\n"
   ]
  },
  {
   "cell_type": "markdown",
   "metadata": {},
   "source": [
    "3) I use the matplotlib to plot those two plots"
   ]
  },
  {
   "cell_type": "code",
   "execution_count": 4,
   "metadata": {},
   "outputs": [
    {
     "data": {
      "text/plain": [
       "Text(0.5,0,u'Date in order')"
      ]
     },
     "execution_count": 4,
     "metadata": {},
     "output_type": "execute_result"
    }
   ],
   "source": [
    "import matplotlib.pyplot as plt\n",
    "import numpy as np\n",
    "# xxx = np.arange(1, 154, 1)\n",
    "# print xxx\n",
    "\n",
    "plot1 = df.plot(kind='scatter',x='No.',y='Solar.R', \n",
    "                title='Solar Radiation in 153 continuous days')\n",
    "plot1.set_xlabel(\"Date in order\")"
   ]
  },
  {
   "cell_type": "code",
   "execution_count": 5,
   "metadata": {},
   "outputs": [
    {
     "data": {
      "text/plain": [
       "Text(0.5,0,u'Date in order')"
      ]
     },
     "execution_count": 5,
     "metadata": {},
     "output_type": "execute_result"
    },
    {
     "data": {
      "image/png": "[encoded data removed]",
      "text/plain": [
       "<matplotlib.figure.Figure at 0x9375e10>"
      ]
     },
     "metadata": {},
     "output_type": "display_data"
    }
   ],
   "source": [
    "plot2 = df.plot(kind='scatter',x='No.',y='Temp', \n",
    "                title='Temperature in 153 continuous days')\n",
    "plot2.set_xlabel(\"Date in order\")"
   ]
  },
  {
   "cell_type": "markdown",
   "metadata": {},
   "source": [
    "It seems that the temperature is closer to resembling a normal distribution"
   ]
  },
  {
   "cell_type": "markdown",
   "metadata": {},
   "source": [
    "4) I used pandas 's functions to calculate the mean, the range (i.e., maximum and minimum values), and the standard deviation of the ozone values. Then simply print them out"
   ]
  },
  {
   "cell_type": "code",
   "execution_count": 6,
   "metadata": {},
   "outputs": [
    {
     "name": "stdout",
     "output_type": "stream",
     "text": [
      "mean: 42.1293\n",
      "range: (1.0, 168.0)\n",
      "standard deviation: 32.9879\n"
     ]
    }
   ],
   "source": [
    "mean1 = df['Ozone'].mean()\n",
    "max1 = df['Ozone'].max() # calculates the max of all values under the Salary column\n",
    "min1 = df['Ozone'].min()\n",
    "std1 = df['Ozone'].std ()\n",
    "print(\"mean: \" + str.format('{0:.4f}', mean1))\n",
    "range = (min1, max1)\n",
    "print(\"range: \" + str(range))\n",
    "print(\"standard deviation: \" + str.format('{0:.4f}', std1))"
   ]
  },
  {
   "cell_type": "markdown",
   "metadata": {},
   "source": [
    "5) First, I calculate the range of 2 standard deviations of the mean"
   ]
  },
  {
   "cell_type": "code",
   "execution_count": 7,
   "metadata": {},
   "outputs": [
    {
     "name": "stdout",
     "output_type": "stream",
     "text": [
      "-23.846458684 108.105079374\n"
     ]
    }
   ],
   "source": [
    "min_s = mean1 - std1 * 2\n",
    "max_s = mean1 + std1 * 2\n",
    "print min_s, max_s"
   ]
  },
  {
   "cell_type": "markdown",
   "metadata": {},
   "source": [
    "Then I iterate through the column of Ozone to count how many data is in this range. Then calculate the percent of it."
   ]
  },
  {
   "cell_type": "code",
   "execution_count": 8,
   "metadata": {},
   "outputs": [
    {
     "name": "stdout",
     "output_type": "stream",
     "text": [
      "0.718954248366\n"
     ]
    }
   ],
   "source": [
    "count = 0\n",
    "rows = df['Ozone']\n",
    "for row in rows:\n",
    "    if min_s<=row<= max_s:\n",
    "        count +=1\n",
    "ans = count/153.0\n",
    "print ans"
   ]
  },
  {
   "cell_type": "markdown",
   "metadata": {},
   "source": [
    "There's only 71.90% of the data fit within  2 standard deviations"
   ]
  },
  {
   "cell_type": "markdown",
   "metadata": {},
   "source": [
    "6) In order to calculate the lowest temperature in May, I first group the dataframe with \"Month\" = 5, then use build-in function from pandas library to find the lowest temperature"
   ]
  },
  {
   "cell_type": "code",
   "execution_count": 9,
   "metadata": {},
   "outputs": [
    {
     "name": "stdout",
     "output_type": "stream",
     "text": [
      "56\n"
     ]
    }
   ],
   "source": [
    "is5 = df['Month']==5\n",
    "newgroup = df[is5]\n",
    "# print newgroup\n",
    "print newgroup['Temp'].min()"
   ]
  },
  {
   "cell_type": "markdown",
   "metadata": {},
   "source": [
    "7) I group the original data by Month and calculate mean value of colunn \"Wind\" and \"Temp\". Then plot them in the same figure with xticks well-setted."
   ]
  },
  {
   "cell_type": "code",
   "execution_count": 10,
   "metadata": {},
   "outputs": [
    {
     "name": "stdout",
     "output_type": "stream",
     "text": [
      "            Wind       Temp\n",
      "Month                      \n",
      "5      11.622581  65.548387\n",
      "6      10.266667  79.100000\n",
      "7       8.941935  83.903226\n",
      "8       8.793548  83.967742\n",
      "9      10.180000  76.900000\n"
     ]
    },
    {
     "data": {
      "image/png": "[encoded data removed]",
      "text/plain": [
       "<matplotlib.figure.Figure at 0xa7c9dd8>"
      ]
     },
     "metadata": {},
     "output_type": "display_data"
    }
   ],
   "source": [
    "mean_w = df.groupby('Month')['Wind','Temp'].mean()\n",
    "# mean_t = df.groupby('Month')['Temp'].mean()\n",
    "new_plot = mean_w.plot(legend=True)\n",
    "new_plot.set_xticks(mean_w.index)\n",
    "print mean_w\n",
    "# mean_w.plot(x='Month', y=['Wind', 'Temp'])"
   ]
  }
 ],
 "metadata": {
  "kernelspec": {
   "display_name": "Python 2",
   "language": "python",
   "name": "python2"
  },
  "language_info": {
   "codemirror_mode": {
    "name": "ipython",
    "version": 2
   },
   "file_extension": ".py",
   "mimetype": "text/x-python",
   "name": "python",
   "nbconvert_exporter": "python",
   "pygments_lexer": "ipython2",
   "version": "2.7.14"
  }
 },
 "nbformat": 4,
 "nbformat_minor": 2
}
