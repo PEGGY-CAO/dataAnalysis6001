{
 "cells": [
  {
   "cell_type": "markdown",
   "metadata": {},
   "source": [
    "## Homework 3 Yuqi(Peggy) Cao\n",
    "This jupyter notebook is presented for MUSI 6001 homework 3. \n",
    "I use python and write it in jupyter notebook  "
   ]
  },
  {
   "cell_type": "markdown",
   "metadata": {},
   "source": [
    "I use the pandas library to parse the csv file and import as a dataframe called \"df\"."
   ]
  },
  {
   "cell_type": "code",
   "execution_count": null,
   "metadata": {},
   "outputs": [],
   "source": [
    "%matplotlib inline"
   ]
  },
  {
   "cell_type": "code",
   "execution_count": 14,
   "metadata": {},
   "outputs": [
    {
     "name": "stdout",
     "output_type": "stream",
     "text": [
      "9.95751633987\n",
      "     Ozone  Solar.R  Wind  Temp  Month  Day\n",
      "1     41.0    190.0   7.4    67      5    1\n",
      "2     36.0    118.0   8.0    72      5    2\n",
      "3     12.0    149.0  12.6    74      5    3\n",
      "4     18.0    313.0  11.5    62      5    4\n",
      "5      NaN      NaN  14.3    56      5    5\n",
      "6     28.0      NaN  14.9    66      5    6\n",
      "7     23.0    299.0   8.6    65      5    7\n",
      "8     19.0     99.0  13.8    59      5    8\n",
      "9      8.0     19.0  20.1    61      5    9\n",
      "10     NaN    194.0   8.6    69      5   10\n",
      "11     7.0      NaN   6.9    74      5   11\n",
      "12    16.0    256.0   9.7    69      5   12\n",
      "13    11.0    290.0   9.2    66      5   13\n",
      "14    14.0    274.0  10.9    68      5   14\n",
      "15    18.0     65.0  13.2    58      5   15\n",
      "16    14.0    334.0  11.5    64      5   16\n",
      "17    34.0    307.0  12.0    66      5   17\n",
      "18     6.0     78.0  18.4    57      5   18\n",
      "19    30.0    322.0  11.5    68      5   19\n",
      "20    11.0     44.0   9.7    62      5   20\n",
      "21     1.0      8.0   9.7    59      5   21\n",
      "22    11.0    320.0  16.6    73      5   22\n",
      "23     4.0     25.0   9.7    61      5   23\n",
      "24    32.0     92.0  12.0    61      5   24\n",
      "25     NaN     66.0  16.6    57      5   25\n",
      "26     NaN    266.0  14.9    58      5   26\n",
      "27     NaN      NaN   8.0    57      5   27\n",
      "28    23.0     13.0  12.0    67      5   28\n",
      "29    45.0    252.0  14.9    81      5   29\n",
      "30   115.0    223.0   5.7    79      5   30\n",
      "..     ...      ...   ...   ...    ...  ...\n",
      "124   96.0    167.0   6.9    91      9    1\n",
      "125   78.0    197.0   5.1    92      9    2\n",
      "126   73.0    183.0   2.8    93      9    3\n",
      "127   91.0    189.0   4.6    93      9    4\n",
      "128   47.0     95.0   7.4    87      9    5\n",
      "129   32.0     92.0  15.5    84      9    6\n",
      "130   20.0    252.0  10.9    80      9    7\n",
      "131   23.0    220.0  10.3    78      9    8\n",
      "132   21.0    230.0  10.9    75      9    9\n",
      "133   24.0    259.0   9.7    73      9   10\n",
      "134   44.0    236.0  14.9    81      9   11\n",
      "135   21.0    259.0  15.5    76      9   12\n",
      "136   28.0    238.0   6.3    77      9   13\n",
      "137    9.0     24.0  10.9    71      9   14\n",
      "138   13.0    112.0  11.5    71      9   15\n",
      "139   46.0    237.0   6.9    78      9   16\n",
      "140   18.0    224.0  13.8    67      9   17\n",
      "141   13.0     27.0  10.3    76      9   18\n",
      "142   24.0    238.0  10.3    68      9   19\n",
      "143   16.0    201.0   8.0    82      9   20\n",
      "144   13.0    238.0  12.6    64      9   21\n",
      "145   23.0     14.0   9.2    71      9   22\n",
      "146   36.0    139.0  10.3    81      9   23\n",
      "147    7.0     49.0  10.3    69      9   24\n",
      "148   14.0     20.0  16.6    63      9   25\n",
      "149   30.0    193.0   6.9    70      9   26\n",
      "150    NaN    145.0  13.2    77      9   27\n",
      "151   14.0    191.0  14.3    75      9   28\n",
      "152   18.0    131.0   8.0    76      9   29\n",
      "153   20.0    223.0  11.5    68      9   30\n",
      "\n",
      "[153 rows x 6 columns]\n"
     ]
    }
   ],
   "source": [
    "import pandas\n",
    "\n",
    "df = pandas.read_csv('airquality.csv', index_col=0)\n",
    "mean_windspeed = df['Wind'].mean() # calculates the average of all values under the \"Wind\"\n",
    "mean_temp = df['Temp'].mean() # calculates the average of all values under the \"Temp\"\n",
    "# median_windspeed\n",
    "# median_temp\n",
    "# mode_windspeed\n",
    "# mode_temp\n",
    "print(mean_windspeed, mean_temp)\n",
    "print(df)"
   ]
  },
  {
   "cell_type": "code",
   "execution_count": null,
   "metadata": {},
   "outputs": [],
   "source": []
  }
 ],
 "metadata": {
  "kernelspec": {
   "display_name": "Python 2",
   "language": "python",
   "name": "python2"
  },
  "language_info": {
   "codemirror_mode": {
    "name": "ipython",
    "version": 2
   },
   "file_extension": ".py",
   "mimetype": "text/x-python",
   "name": "python",
   "nbconvert_exporter": "python",
   "pygments_lexer": "ipython2",
   "version": "2.7.14"
  }
 },
 "nbformat": 4,
 "nbformat_minor": 2
}
