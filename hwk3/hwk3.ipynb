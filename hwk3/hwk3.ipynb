{
 "cells": [
  {
   "cell_type": "markdown",
   "metadata": {},
   "source": [
    "## Homework 3 Yuqi(Peggy) Cao\n",
    "This jupyter notebook is presented for MUSI 6001 homework 3. \n",
    "I use python and write it in jupyter notebook  "
   ]
  },
  {
   "cell_type": "markdown",
   "metadata": {},
   "source": [
    "1) I use the pandas library to parse the csv file and import as a dataframe called \"df\"."
   ]
  },
  {
   "cell_type": "code",
   "execution_count": null,
   "metadata": {},
   "outputs": [],
   "source": [
    "%matplotlib inline"
   ]
  },
  {
   "cell_type": "code",
   "execution_count": 27,
   "metadata": {},
   "outputs": [],
   "source": [
    "import pandas\n",
    "\n",
    "from IPython.display import HTML, display\n",
    "\n",
    "df = pandas.read_csv('airquality.csv', index_col=0)\n",
    "\n",
    "# print(df)"
   ]
  },
  {
   "cell_type": "markdown",
   "metadata": {},
   "source": [
    "2) Then I used pandas library's functions to calcuate the mean, median, and mode for the wind speed and temperature variables."
   ]
  },
  {
   "cell_type": "code",
   "execution_count": null,
   "metadata": {},
   "outputs": [],
   "source": [
    "mean_windspeed = df['Wind'].mean() # calculates the average of all values under the \"Wind\"\n",
    "mean_temp = df['Temp'].mean() # calculates the average of all values under the \"Temp\"\n",
    "median_windspeed = df['Wind'].median()\n",
    "median_temp = df['Temp'].median()\n",
    "mode_windspeed = df['Wind'].mode()\n",
    "mode_temp = df['Temp'].mode()\n",
    "# print(mode_windspeed[0])\n",
    "# print(mode_temp[0])"
   ]
  },
  {
   "cell_type": "markdown",
   "metadata": {},
   "source": [
    "Then I wrote those data as a table and print those out in pandas 's dataframe format"
   ]
  },
  {
   "cell_type": "code",
   "execution_count": 52,
   "metadata": {},
   "outputs": [
    {
     "data": {
      "text/html": [
       "<div>\n",
       "<style scoped>\n",
       "    .dataframe tbody tr th:only-of-type {\n",
       "        vertical-align: middle;\n",
       "    }\n",
       "\n",
       "    .dataframe tbody tr th {\n",
       "        vertical-align: top;\n",
       "    }\n",
       "\n",
       "    .dataframe thead th {\n",
       "        text-align: right;\n",
       "    }\n",
       "</style>\n",
       "<table border=\"1\" class=\"dataframe\">\n",
       "  <thead>\n",
       "    <tr style=\"text-align: right;\">\n",
       "      <th></th>\n",
       "      <th>Wind speed</th>\n",
       "      <th>Temperature</th>\n",
       "    </tr>\n",
       "  </thead>\n",
       "  <tbody>\n",
       "    <tr>\n",
       "      <th>Mean</th>\n",
       "      <td>9.95752</td>\n",
       "      <td>77.8824</td>\n",
       "    </tr>\n",
       "    <tr>\n",
       "      <th>Median</th>\n",
       "      <td>9.7</td>\n",
       "      <td>79</td>\n",
       "    </tr>\n",
       "    <tr>\n",
       "      <th>Mode</th>\n",
       "      <td>11.50</td>\n",
       "      <td>81.00</td>\n",
       "    </tr>\n",
       "  </tbody>\n",
       "</table>\n",
       "</div>"
      ],
      "text/plain": [
       "       Wind speed Temperature\n",
       "Mean      9.95752     77.8824\n",
       "Median        9.7          79\n",
       "Mode        11.50       81.00"
      ]
     },
     "execution_count": 52,
     "metadata": {},
     "output_type": "execute_result"
    }
   ],
   "source": [
    "table = [\n",
    "[mean_windspeed, mean_temp],    \n",
    "[median_windspeed, median_temp],\n",
    "[str.format('{0:.2f}', mode_windspeed[0]), str.format('{0:.2f}', mode_temp[0])]    \n",
    "]\n",
    "\n",
    "pandas.DataFrame(table, columns=[\"Wind speed\", \"Temperature\"], index=[\"Mean\", \"Median\", \"Mode\"])\n"
   ]
  },
  {
   "cell_type": "markdown",
   "metadata": {},
   "source": [
    "4) I used pandas 's functions to calculate the mean, the range (i.e., maximum and minimum values), and the standard deviation of the ozone values. Then simply print them out"
   ]
  },
  {
   "cell_type": "code",
   "execution_count": 50,
   "metadata": {},
   "outputs": [
    {
     "name": "stdout",
     "output_type": "stream",
     "text": [
      "mean: 42.1293\n",
      "range: (1.0, 168.0)\n",
      "standard deviation: 32.9879\n"
     ]
    }
   ],
   "source": [
    "mean1 = df['Ozone'].mean()\n",
    "max1 = df['Ozone'].max() # calculates the max of all values under the Salary column\n",
    "min1 = df['Ozone'].min()\n",
    "std1 = df['Ozone'].std ()\n",
    "print(\"mean: \" + str.format('{0:.4f}', mean1))\n",
    "range = (min1, max1)\n",
    "print(\"range: \" + str(range))\n",
    "print(\"standard deviation: \" + str.format('{0:.4f}', std1))"
   ]
  }
 ],
 "metadata": {
  "kernelspec": {
   "display_name": "Python 2",
   "language": "python",
   "name": "python2"
  },
  "language_info": {
   "codemirror_mode": {
    "name": "ipython",
    "version": 2
   },
   "file_extension": ".py",
   "mimetype": "text/x-python",
   "name": "python",
   "nbconvert_exporter": "python",
   "pygments_lexer": "ipython2",
   "version": "2.7.14"
  }
 },
 "nbformat": 4,
 "nbformat_minor": 2
}
