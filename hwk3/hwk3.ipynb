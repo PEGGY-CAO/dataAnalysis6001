{
 "cells": [
  {
   "cell_type": "markdown",
   "metadata": {},
   "source": [
    "## Homework 3 Yuqi(Peggy) Cao\n",
    "This jupyter notebook is presented for MUSI 6001 homework 3. \n",
    "I use python and write it in jupyter notebook  "
   ]
  },
  {
   "cell_type": "markdown",
   "metadata": {},
   "source": [
    "1) I use the pandas library to parse the csv file and import as a dataframe called \"df\"."
   ]
  },
  {
   "cell_type": "code",
   "execution_count": 1,
   "metadata": {},
   "outputs": [],
   "source": [
    "%matplotlib inline"
   ]
  },
  {
   "cell_type": "code",
   "execution_count": 38,
   "metadata": {},
   "outputs": [
    {
     "name": "stdout",
     "output_type": "stream",
     "text": [
      "     No.  Ozone  Solar.R  Wind  Temp  Month  Day\n",
      "0      1   41.0    190.0   7.4    67      5    1\n",
      "1      2   36.0    118.0   8.0    72      5    2\n",
      "2      3   12.0    149.0  12.6    74      5    3\n",
      "3      4   18.0    313.0  11.5    62      5    4\n",
      "4      5    NaN      NaN  14.3    56      5    5\n",
      "5      6   28.0      NaN  14.9    66      5    6\n",
      "6      7   23.0    299.0   8.6    65      5    7\n",
      "7      8   19.0     99.0  13.8    59      5    8\n",
      "8      9    8.0     19.0  20.1    61      5    9\n",
      "9     10    NaN    194.0   8.6    69      5   10\n",
      "10    11    7.0      NaN   6.9    74      5   11\n",
      "11    12   16.0    256.0   9.7    69      5   12\n",
      "12    13   11.0    290.0   9.2    66      5   13\n",
      "13    14   14.0    274.0  10.9    68      5   14\n",
      "14    15   18.0     65.0  13.2    58      5   15\n",
      "15    16   14.0    334.0  11.5    64      5   16\n",
      "16    17   34.0    307.0  12.0    66      5   17\n",
      "17    18    6.0     78.0  18.4    57      5   18\n",
      "18    19   30.0    322.0  11.5    68      5   19\n",
      "19    20   11.0     44.0   9.7    62      5   20\n",
      "20    21    1.0      8.0   9.7    59      5   21\n",
      "21    22   11.0    320.0  16.6    73      5   22\n",
      "22    23    4.0     25.0   9.7    61      5   23\n",
      "23    24   32.0     92.0  12.0    61      5   24\n",
      "24    25    NaN     66.0  16.6    57      5   25\n",
      "25    26    NaN    266.0  14.9    58      5   26\n",
      "26    27    NaN      NaN   8.0    57      5   27\n",
      "27    28   23.0     13.0  12.0    67      5   28\n",
      "28    29   45.0    252.0  14.9    81      5   29\n",
      "29    30  115.0    223.0   5.7    79      5   30\n",
      "..   ...    ...      ...   ...   ...    ...  ...\n",
      "123  124   96.0    167.0   6.9    91      9    1\n",
      "124  125   78.0    197.0   5.1    92      9    2\n",
      "125  126   73.0    183.0   2.8    93      9    3\n",
      "126  127   91.0    189.0   4.6    93      9    4\n",
      "127  128   47.0     95.0   7.4    87      9    5\n",
      "128  129   32.0     92.0  15.5    84      9    6\n",
      "129  130   20.0    252.0  10.9    80      9    7\n",
      "130  131   23.0    220.0  10.3    78      9    8\n",
      "131  132   21.0    230.0  10.9    75      9    9\n",
      "132  133   24.0    259.0   9.7    73      9   10\n",
      "133  134   44.0    236.0  14.9    81      9   11\n",
      "134  135   21.0    259.0  15.5    76      9   12\n",
      "135  136   28.0    238.0   6.3    77      9   13\n",
      "136  137    9.0     24.0  10.9    71      9   14\n",
      "137  138   13.0    112.0  11.5    71      9   15\n",
      "138  139   46.0    237.0   6.9    78      9   16\n",
      "139  140   18.0    224.0  13.8    67      9   17\n",
      "140  141   13.0     27.0  10.3    76      9   18\n",
      "141  142   24.0    238.0  10.3    68      9   19\n",
      "142  143   16.0    201.0   8.0    82      9   20\n",
      "143  144   13.0    238.0  12.6    64      9   21\n",
      "144  145   23.0     14.0   9.2    71      9   22\n",
      "145  146   36.0    139.0  10.3    81      9   23\n",
      "146  147    7.0     49.0  10.3    69      9   24\n",
      "147  148   14.0     20.0  16.6    63      9   25\n",
      "148  149   30.0    193.0   6.9    70      9   26\n",
      "149  150    NaN    145.0  13.2    77      9   27\n",
      "150  151   14.0    191.0  14.3    75      9   28\n",
      "151  152   18.0    131.0   8.0    76      9   29\n",
      "152  153   20.0    223.0  11.5    68      9   30\n",
      "\n",
      "[153 rows x 7 columns]\n"
     ]
    }
   ],
   "source": [
    "import pandas\n",
    "\n",
    "\n",
    "from IPython.display import HTML, display\n",
    "\n",
    "df = pandas.read_csv('airquality.csv', \n",
    "                     names=['No.','Ozone',  'Solar.R',  'Wind',  'Temp',  'Month',  'Day'],header=0)\n",
    "# df.columns = ['No.','Ozone',  'Solar.R',  'Wind',  'Temp',  'Month',  'Day']\n",
    "print(df)\n"
   ]
  },
  {
   "cell_type": "markdown",
   "metadata": {},
   "source": [
    "2) Then I used pandas library's functions to calcuate the mean, median, and mode for the wind speed and temperature variables."
   ]
  },
  {
   "cell_type": "code",
   "execution_count": 20,
   "metadata": {},
   "outputs": [],
   "source": [
    "mean_windspeed = df['Wind'].mean() # calculates the average of all values under the \"Wind\"\n",
    "mean_temp = df['Temp'].mean() # calculates the average of all values under the \"Temp\"\n",
    "median_windspeed = df['Wind'].median()\n",
    "median_temp = df['Temp'].median()\n",
    "mode_windspeed = df['Wind'].mode()\n",
    "mode_temp = df['Temp'].mode()\n",
    "# print(mode_windspeed[0])\n",
    "# print(mode_temp[0])"
   ]
  },
  {
   "cell_type": "markdown",
   "metadata": {},
   "source": [
    "Then I wrote those data as a table and print those out in pandas 's dataframe format"
   ]
  },
  {
   "cell_type": "code",
   "execution_count": 21,
   "metadata": {},
   "outputs": [
    {
     "data": {
      "text/html": [
       "<div>\n",
       "<style scoped>\n",
       "    .dataframe tbody tr th:only-of-type {\n",
       "        vertical-align: middle;\n",
       "    }\n",
       "\n",
       "    .dataframe tbody tr th {\n",
       "        vertical-align: top;\n",
       "    }\n",
       "\n",
       "    .dataframe thead th {\n",
       "        text-align: right;\n",
       "    }\n",
       "</style>\n",
       "<table border=\"1\" class=\"dataframe\">\n",
       "  <thead>\n",
       "    <tr style=\"text-align: right;\">\n",
       "      <th></th>\n",
       "      <th>Wind speed</th>\n",
       "      <th>Temperature</th>\n",
       "    </tr>\n",
       "  </thead>\n",
       "  <tbody>\n",
       "    <tr>\n",
       "      <th>Mean</th>\n",
       "      <td>9.95752</td>\n",
       "      <td>77.8824</td>\n",
       "    </tr>\n",
       "    <tr>\n",
       "      <th>Median</th>\n",
       "      <td>9.7</td>\n",
       "      <td>79</td>\n",
       "    </tr>\n",
       "    <tr>\n",
       "      <th>Mode</th>\n",
       "      <td>11.50</td>\n",
       "      <td>81.00</td>\n",
       "    </tr>\n",
       "  </tbody>\n",
       "</table>\n",
       "</div>"
      ],
      "text/plain": [
       "       Wind speed Temperature\n",
       "Mean      9.95752     77.8824\n",
       "Median        9.7          79\n",
       "Mode        11.50       81.00"
      ]
     },
     "execution_count": 21,
     "metadata": {},
     "output_type": "execute_result"
    }
   ],
   "source": [
    "table = [\n",
    "[mean_windspeed, mean_temp],    \n",
    "[median_windspeed, median_temp],\n",
    "[str.format('{0:.2f}', mode_windspeed[0]), str.format('{0:.2f}', mode_temp[0])]    \n",
    "]\n",
    "\n",
    "pandas.DataFrame(table, columns=[\"Wind speed\", \"Temperature\"], index=[\"Mean\", \"Median\", \"Mode\"])\n"
   ]
  },
  {
   "cell_type": "markdown",
   "metadata": {},
   "source": [
    "3) I use the matplotlib to plot those two plots"
   ]
  },
  {
   "cell_type": "code",
   "execution_count": 45,
   "metadata": {},
   "outputs": [
    {
     "data": {
      "text/plain": [
       "Text(0.5,0,u'Date in order')"
      ]
     },
     "execution_count": 45,
     "metadata": {},
     "output_type": "execute_result"
    },
    {
     "data": {
      "image/png": "[encoded data removed]",
      "text/plain": [
       "<matplotlib.figure.Figure at 0xcd6a2b0>"
      ]
     },
     "metadata": {},
     "output_type": "display_data"
    }
   ],
   "source": [
    "import matplotlib.pyplot as plt\n",
    "import numpy as np\n",
    "# xxx = np.arange(1, 154, 1)\n",
    "# print xxx\n",
    "\n",
    "plot1 = df.plot(kind='scatter',x='No.',y='Solar.R', title='Solar Radiation in 153 continuous days')\n",
    "plot1.set_xlabel(\"Date in order\")"
   ]
  },
  {
   "cell_type": "code",
   "execution_count": 46,
   "metadata": {},
   "outputs": [
    {
     "data": {
      "text/plain": [
       "Text(0.5,0,u'Date in order')"
      ]
     },
     "execution_count": 46,
     "metadata": {},
     "output_type": "execute_result"
    },
    {
     "data": {
      "image/png": "[encoded data removed]",
      "text/plain": [
       "<matplotlib.figure.Figure at 0xbf61b00>"
      ]
     },
     "metadata": {},
     "output_type": "display_data"
    }
   ],
   "source": [
    "plot2 = df.plot(kind='scatter',x='No.',y='Temp', title='Temperature in 153 continuous days')\n",
    "plot2.set_xlabel(\"Date in order\")"
   ]
  },
  {
   "cell_type": "markdown",
   "metadata": {},
   "source": [
    "It seems that the temperature is closer to resembling a normal distribution"
   ]
  },
  {
   "cell_type": "markdown",
   "metadata": {},
   "source": [
    "4) I used pandas 's functions to calculate the mean, the range (i.e., maximum and minimum values), and the standard deviation of the ozone values. Then simply print them out"
   ]
  },
  {
   "cell_type": "code",
   "execution_count": 47,
   "metadata": {},
   "outputs": [
    {
     "name": "stdout",
     "output_type": "stream",
     "text": [
      "mean: 42.1293\n",
      "range: (1.0, 168.0)\n",
      "standard deviation: 32.9879\n"
     ]
    }
   ],
   "source": [
    "mean1 = df['Ozone'].mean()\n",
    "max1 = df['Ozone'].max() # calculates the max of all values under the Salary column\n",
    "min1 = df['Ozone'].min()\n",
    "std1 = df['Ozone'].std ()\n",
    "print(\"mean: \" + str.format('{0:.4f}', mean1))\n",
    "range = (min1, max1)\n",
    "print(\"range: \" + str(range))\n",
    "print(\"standard deviation: \" + str.format('{0:.4f}', std1))"
   ]
  },
  {
   "cell_type": "markdown",
   "metadata": {},
   "source": [
    "5) "
   ]
  }
 ],
 "metadata": {
  "kernelspec": {
   "display_name": "Python 2",
   "language": "python",
   "name": "python2"
  },
  "language_info": {
   "codemirror_mode": {
    "name": "ipython",
    "version": 2
   },
   "file_extension": ".py",
   "mimetype": "text/x-python",
   "name": "python",
   "nbconvert_exporter": "python",
   "pygments_lexer": "ipython2",
   "version": "2.7.14"
  }
 },
 "nbformat": 4,
 "nbformat_minor": 2
}
